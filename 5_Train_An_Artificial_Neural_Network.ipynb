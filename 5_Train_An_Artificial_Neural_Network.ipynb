{
 "cells": [
  {
   "cell_type": "code",
   "execution_count": 3,
   "id": "b018eed2",
   "metadata": {},
   "outputs": [],
   "source": [
    "import tensorflow as tf\n",
    "from tensorflow import keras\n",
    "from tensorflow.keras.models import Sequential\n",
    "from tensorflow.keras.layers import Activation, Dense\n",
    "from tensorflow.keras.optimizers import Adam\n",
    "from tensorflow.keras.metrics import categorical_crossentropy"
   ]
  },
  {
   "cell_type": "code",
   "execution_count": 4,
   "id": "58be0c2d",
   "metadata": {},
   "outputs": [],
   "source": [
    "model = Sequential([\n",
    "    Dense(units=16, input_shape=(1,), activation='relu'),\n",
    "    Dense(units=32, activation='relu'),\n",
    "    Dense(units=2, activation='softmax')\n",
    "])"
   ]
  },
  {
   "cell_type": "code",
   "execution_count": 5,
   "id": "26ffb0c6",
   "metadata": {},
   "outputs": [],
   "source": [
    "model.compile(optimizer=Adam(learning_rate=0.0001),\n",
    "             loss='sparse_categorical_crossentropy',\n",
    "             metrics=['accuracy'])"
   ]
  },
  {
   "cell_type": "code",
   "execution_count": 9,
   "id": "ba6b26d4",
   "metadata": {},
   "outputs": [
    {
     "name": "stdout",
     "output_type": "stream",
     "text": [
      "(2100,)\n",
      "(2100, 1)\n"
     ]
    }
   ],
   "source": [
    "import numpy as np\n",
    "from random import randint\n",
    "from sklearn.utils import shuffle\n",
    "from sklearn.preprocessing import MinMaxScaler\n",
    "\n",
    "train_labels = []\n",
    "train_samples = []\n",
    "\n",
    "# 生成数据\n",
    "for i in range(50):\n",
    "    # 大约5%的年轻人确实经历过副作用\n",
    "    random_younger = randint(13,64)\n",
    "    train_samples.append(random_younger)\n",
    "    train_labels.append(1)\n",
    "\n",
    "    # 大约5%的老年人没有经历过副作用\n",
    "    random_older = randint(65,100)\n",
    "    train_samples.append(random_older)\n",
    "    train_labels.append(0)\n",
    "\n",
    "for i in range(1000):\n",
    "    # 大约95%的年轻人没有经历过副作用\n",
    "    random_younger = randint(13,64)\n",
    "    train_samples.append(random_younger)\n",
    "    train_labels.append(0)\n",
    "\n",
    "    # 大约95%的老年人确实经历过副作用\n",
    "    random_older = randint(65,100)\n",
    "    train_samples.append(random_older)\n",
    "    train_labels.append(1)\n",
    "\n",
    "train_labels = np.array(train_labels)\n",
    "train_samples = np.array(train_samples)\n",
    "train_labels,train_samples = shuffle(train_labels,train_samples)\n",
    "print(train_samples.shape)\n",
    "\n",
    "# 通过将每个特征缩放到给定的范围来转换特征。\n",
    "scaler = MinMaxScaler(feature_range=(0,1))\n",
    "\n",
    "scaled_train_samples = scaler.fit_transform(train_samples.reshape(-1,1))\n",
    "# 我们只是根据fit_transform（）函数默认情况下不接受一维数据的情况，将数据重塑为2D。\n",
    "print(train_samples.reshape(-1,1).shape)"
   ]
  },
  {
   "cell_type": "code",
   "execution_count": 10,
   "id": "8fabb3c2",
   "metadata": {},
   "outputs": [
    {
     "name": "stdout",
     "output_type": "stream",
     "text": [
      "Epoch 1/30\n",
      "210/210 - 1s - loss: 0.2739 - accuracy: 0.9300\n",
      "Epoch 2/30\n",
      "210/210 - 1s - loss: 0.2728 - accuracy: 0.9348\n",
      "Epoch 3/30\n",
      "210/210 - 1s - loss: 0.2718 - accuracy: 0.9329\n",
      "Epoch 4/30\n",
      "210/210 - 1s - loss: 0.2709 - accuracy: 0.9348\n",
      "Epoch 5/30\n",
      "210/210 - 1s - loss: 0.2700 - accuracy: 0.9348\n",
      "Epoch 6/30\n",
      "210/210 - 1s - loss: 0.2689 - accuracy: 0.9348\n",
      "Epoch 7/30\n",
      "210/210 - 1s - loss: 0.2681 - accuracy: 0.9348\n",
      "Epoch 8/30\n",
      "210/210 - 1s - loss: 0.2672 - accuracy: 0.9348\n",
      "Epoch 9/30\n",
      "210/210 - 1s - loss: 0.2664 - accuracy: 0.9367\n",
      "Epoch 10/30\n",
      "210/210 - 1s - loss: 0.2657 - accuracy: 0.9357\n",
      "Epoch 11/30\n",
      "210/210 - 1s - loss: 0.2648 - accuracy: 0.9367\n",
      "Epoch 12/30\n",
      "210/210 - 1s - loss: 0.2640 - accuracy: 0.9348\n",
      "Epoch 13/30\n",
      "210/210 - 1s - loss: 0.2632 - accuracy: 0.9348\n",
      "Epoch 14/30\n",
      "210/210 - 1s - loss: 0.2625 - accuracy: 0.9352\n",
      "Epoch 15/30\n",
      "210/210 - 1s - loss: 0.2618 - accuracy: 0.9424\n",
      "Epoch 16/30\n",
      "210/210 - 1s - loss: 0.2611 - accuracy: 0.9362\n",
      "Epoch 17/30\n",
      "210/210 - 1s - loss: 0.2605 - accuracy: 0.9367\n",
      "Epoch 18/30\n",
      "210/210 - 1s - loss: 0.2599 - accuracy: 0.9376\n",
      "Epoch 19/30\n",
      "210/210 - 1s - loss: 0.2592 - accuracy: 0.9352\n",
      "Epoch 20/30\n",
      "210/210 - 1s - loss: 0.2587 - accuracy: 0.9371\n",
      "Epoch 21/30\n",
      "210/210 - 1s - loss: 0.2584 - accuracy: 0.9376\n",
      "Epoch 22/30\n",
      "210/210 - 1s - loss: 0.2578 - accuracy: 0.9400\n",
      "Epoch 23/30\n",
      "210/210 - 1s - loss: 0.2572 - accuracy: 0.9424\n",
      "Epoch 24/30\n",
      "210/210 - 1s - loss: 0.2568 - accuracy: 0.9376\n",
      "Epoch 25/30\n",
      "210/210 - 1s - loss: 0.2562 - accuracy: 0.9424\n",
      "Epoch 26/30\n",
      "210/210 - 1s - loss: 0.2556 - accuracy: 0.9400\n",
      "Epoch 27/30\n",
      "210/210 - 1s - loss: 0.2552 - accuracy: 0.9424\n",
      "Epoch 28/30\n",
      "210/210 - 1s - loss: 0.2547 - accuracy: 0.9424\n",
      "Epoch 29/30\n",
      "210/210 - 1s - loss: 0.2544 - accuracy: 0.9419\n",
      "Epoch 30/30\n",
      "210/210 - 1s - loss: 0.2541 - accuracy: 0.9424\n"
     ]
    },
    {
     "data": {
      "text/plain": [
       "<tensorflow.python.keras.callbacks.History at 0x2b4309fcd68>"
      ]
     },
     "execution_count": 10,
     "metadata": {},
     "output_type": "execute_result"
    }
   ],
   "source": [
    "model.fit(x=scaled_train_samples,y=train_labels,batch_size=10,epochs=30,verbose=2)"
   ]
  },
  {
   "cell_type": "code",
   "execution_count": null,
   "id": "f4ff0253",
   "metadata": {},
   "outputs": [],
   "source": []
  }
 ],
 "metadata": {
  "kernelspec": {
   "display_name": "Python 3",
   "language": "python",
   "name": "python3"
  },
  "language_info": {
   "codemirror_mode": {
    "name": "ipython",
    "version": 3
   },
   "file_extension": ".py",
   "mimetype": "text/x-python",
   "name": "python",
   "nbconvert_exporter": "python",
   "pygments_lexer": "ipython3",
   "version": "3.6.13"
  }
 },
 "nbformat": 4,
 "nbformat_minor": 5
}
