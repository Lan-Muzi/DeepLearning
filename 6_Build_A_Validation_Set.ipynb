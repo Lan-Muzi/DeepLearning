{
 "cells": [
  {
   "cell_type": "code",
   "execution_count": 1,
   "id": "3e2f860c",
   "metadata": {},
   "outputs": [
    {
     "name": "stdout",
     "output_type": "stream",
     "text": [
      "(2100,)\n",
      "(2100, 1)\n"
     ]
    }
   ],
   "source": [
    "# 准备数据\n",
    "import numpy as np\n",
    "from random import randint\n",
    "from sklearn.utils import shuffle\n",
    "from sklearn.preprocessing import MinMaxScaler\n",
    "\n",
    "train_labels = []\n",
    "train_samples = []\n",
    "\n",
    "# 生成数据\n",
    "for i in range(50):\n",
    "    # 大约5%的年轻人确实经历过副作用\n",
    "    random_younger = randint(13,64)\n",
    "    train_samples.append(random_younger)\n",
    "    train_labels.append(1)\n",
    "\n",
    "    # 大约5%的老年人没有经历过副作用\n",
    "    random_older = randint(65,100)\n",
    "    train_samples.append(random_older)\n",
    "    train_labels.append(0)\n",
    "\n",
    "for i in range(1000):\n",
    "    # 大约95%的年轻人没有经历过副作用\n",
    "    random_younger = randint(13,64)\n",
    "    train_samples.append(random_younger)\n",
    "    train_labels.append(0)\n",
    "\n",
    "    # 大约95%的老年人确实经历过副作用\n",
    "    random_older = randint(65,100)\n",
    "    train_samples.append(random_older)\n",
    "    train_labels.append(1)\n",
    "\n",
    "train_labels = np.array(train_labels)\n",
    "train_samples = np.array(train_samples)\n",
    "train_labels,train_samples = shuffle(train_labels,train_samples)\n",
    "print(train_samples.shape)\n",
    "\n",
    "# 通过将每个特征缩放到给定的范围来转换特征。\n",
    "scaler = MinMaxScaler(feature_range=(0,1))\n",
    "\n",
    "scaled_train_samples = scaler.fit_transform(train_samples.reshape(-1,1))\n",
    "# 我们只是根据fit_transform（）函数默认情况下不接受一维数据的情况，将数据重塑为2D。\n",
    "print(train_samples.reshape(-1,1).shape)"
   ]
  },
  {
   "cell_type": "code",
   "execution_count": 2,
   "id": "27125bc6",
   "metadata": {},
   "outputs": [],
   "source": [
    "# 创建并且编译模型\n",
    "import tensorflow as tf\n",
    "from tensorflow import keras\n",
    "from tensorflow.keras.models import Sequential\n",
    "from tensorflow.keras.layers import Activation, Dense\n",
    "from tensorflow.keras.optimizers import Adam\n",
    "from tensorflow.keras.metrics import categorical_crossentropy\n",
    "\n",
    "model = Sequential([\n",
    "    Dense(units=16, input_shape=(1,), activation='relu'),\n",
    "    Dense(units=32, activation='relu'),\n",
    "    Dense(units=2, activation='softmax')\n",
    "])\n",
    "\n",
    "model.compile(optimizer=Adam(learning_rate=0.0001),\n",
    "              loss='sparse_categorical_crossentropy',\n",
    "              metrics=['accuracy'])"
   ]
  },
  {
   "cell_type": "code",
   "execution_count": 4,
   "id": "59363959",
   "metadata": {},
   "outputs": [
    {
     "name": "stdout",
     "output_type": "stream",
     "text": [
      "Epoch 1/30\n",
      "189/189 - 1s - loss: 0.2671 - accuracy: 0.9317 - val_loss: 0.2871 - val_accuracy: 0.9333\n",
      "Epoch 2/30\n",
      "189/189 - 1s - loss: 0.2649 - accuracy: 0.9328 - val_loss: 0.2857 - val_accuracy: 0.9333\n",
      "Epoch 3/30\n",
      "189/189 - 1s - loss: 0.2630 - accuracy: 0.9312 - val_loss: 0.2848 - val_accuracy: 0.9333\n",
      "Epoch 4/30\n",
      "189/189 - 1s - loss: 0.2614 - accuracy: 0.9339 - val_loss: 0.2838 - val_accuracy: 0.9333\n",
      "Epoch 5/30\n",
      "189/189 - 1s - loss: 0.2597 - accuracy: 0.9328 - val_loss: 0.2831 - val_accuracy: 0.9333\n",
      "Epoch 6/30\n",
      "189/189 - 1s - loss: 0.2584 - accuracy: 0.9333 - val_loss: 0.2826 - val_accuracy: 0.9333\n",
      "Epoch 7/30\n",
      "189/189 - 1s - loss: 0.2570 - accuracy: 0.9365 - val_loss: 0.2831 - val_accuracy: 0.9333\n",
      "Epoch 8/30\n",
      "189/189 - 1s - loss: 0.2558 - accuracy: 0.9328 - val_loss: 0.2823 - val_accuracy: 0.9333\n",
      "Epoch 9/30\n",
      "189/189 - 1s - loss: 0.2547 - accuracy: 0.9328 - val_loss: 0.2812 - val_accuracy: 0.9333\n",
      "Epoch 10/30\n",
      "189/189 - 1s - loss: 0.2538 - accuracy: 0.9376 - val_loss: 0.2811 - val_accuracy: 0.9333\n",
      "Epoch 11/30\n",
      "189/189 - 1s - loss: 0.2530 - accuracy: 0.9349 - val_loss: 0.2804 - val_accuracy: 0.9333\n",
      "Epoch 12/30\n",
      "189/189 - 1s - loss: 0.2519 - accuracy: 0.9339 - val_loss: 0.2804 - val_accuracy: 0.9333\n",
      "Epoch 13/30\n",
      "189/189 - 1s - loss: 0.2511 - accuracy: 0.9339 - val_loss: 0.2802 - val_accuracy: 0.9333\n",
      "Epoch 14/30\n",
      "189/189 - 1s - loss: 0.2505 - accuracy: 0.9354 - val_loss: 0.2796 - val_accuracy: 0.9333\n",
      "Epoch 15/30\n",
      "189/189 - 1s - loss: 0.2498 - accuracy: 0.9386 - val_loss: 0.2787 - val_accuracy: 0.9381\n",
      "Epoch 16/30\n",
      "189/189 - 1s - loss: 0.2491 - accuracy: 0.9354 - val_loss: 0.2779 - val_accuracy: 0.9381\n",
      "Epoch 17/30\n",
      "189/189 - 1s - loss: 0.2483 - accuracy: 0.9392 - val_loss: 0.2774 - val_accuracy: 0.9381\n",
      "Epoch 18/30\n",
      "189/189 - 1s - loss: 0.2478 - accuracy: 0.9402 - val_loss: 0.2769 - val_accuracy: 0.9381\n",
      "Epoch 19/30\n",
      "189/189 - 1s - loss: 0.2469 - accuracy: 0.9392 - val_loss: 0.2773 - val_accuracy: 0.9333\n",
      "Epoch 20/30\n",
      "189/189 - 1s - loss: 0.2465 - accuracy: 0.9360 - val_loss: 0.2755 - val_accuracy: 0.9381\n",
      "Epoch 21/30\n",
      "189/189 - 1s - loss: 0.2459 - accuracy: 0.9381 - val_loss: 0.2749 - val_accuracy: 0.9381\n",
      "Epoch 22/30\n",
      "189/189 - 1s - loss: 0.2455 - accuracy: 0.9360 - val_loss: 0.2738 - val_accuracy: 0.9381\n",
      "Epoch 23/30\n",
      "189/189 - 1s - loss: 0.2448 - accuracy: 0.9402 - val_loss: 0.2733 - val_accuracy: 0.9381\n",
      "Epoch 24/30\n",
      "189/189 - 1s - loss: 0.2444 - accuracy: 0.9381 - val_loss: 0.2726 - val_accuracy: 0.9381\n",
      "Epoch 25/30\n",
      "189/189 - 1s - loss: 0.2438 - accuracy: 0.9381 - val_loss: 0.2723 - val_accuracy: 0.9381\n",
      "Epoch 26/30\n",
      "189/189 - 1s - loss: 0.2433 - accuracy: 0.9402 - val_loss: 0.2712 - val_accuracy: 0.9381\n",
      "Epoch 27/30\n",
      "189/189 - 1s - loss: 0.2428 - accuracy: 0.9386 - val_loss: 0.2707 - val_accuracy: 0.9381\n",
      "Epoch 28/30\n",
      "189/189 - 1s - loss: 0.2421 - accuracy: 0.9402 - val_loss: 0.2709 - val_accuracy: 0.9381\n",
      "Epoch 29/30\n",
      "189/189 - 1s - loss: 0.2418 - accuracy: 0.9402 - val_loss: 0.2705 - val_accuracy: 0.9381\n",
      "Epoch 30/30\n",
      "189/189 - 1s - loss: 0.2413 - accuracy: 0.9397 - val_loss: 0.2694 - val_accuracy: 0.9381\n"
     ]
    },
    {
     "data": {
      "text/plain": [
       "<tensorflow.python.keras.callbacks.History at 0x22759f299e8>"
      ]
     },
     "execution_count": 4,
     "metadata": {},
     "output_type": "execute_result"
    }
   ],
   "source": [
    "# 训练模型\n",
    "model.fit(\n",
    "    x = scaled_train_samples,\n",
    "    y = train_labels,\n",
    "    validation_split=0.1,\n",
    "    batch_size = 10,\n",
    "    epochs = 30,\n",
    "    verbose=2\n",
    ")"
   ]
  },
  {
   "cell_type": "code",
   "execution_count": null,
   "id": "5c14e5f4",
   "metadata": {},
   "outputs": [],
   "source": []
  }
 ],
 "metadata": {
  "kernelspec": {
   "display_name": "Python 3",
   "language": "python",
   "name": "python3"
  },
  "language_info": {
   "codemirror_mode": {
    "name": "ipython",
    "version": 3
   },
   "file_extension": ".py",
   "mimetype": "text/x-python",
   "name": "python",
   "nbconvert_exporter": "python",
   "pygments_lexer": "ipython3",
   "version": "3.6.13"
  }
 },
 "nbformat": 4,
 "nbformat_minor": 5
}
