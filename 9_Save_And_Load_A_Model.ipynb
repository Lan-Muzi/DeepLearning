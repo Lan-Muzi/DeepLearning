{
 "cells": [
  {
   "cell_type": "code",
   "execution_count": 1,
   "id": "a6a11305",
   "metadata": {},
   "outputs": [
    {
     "name": "stdout",
     "output_type": "stream",
     "text": [
      "(2100,)\n",
      "(2100, 1)\n"
     ]
    }
   ],
   "source": [
    "# 准备数据\n",
    "import numpy as np\n",
    "from random import randint\n",
    "from sklearn.utils import shuffle\n",
    "from sklearn.preprocessing import MinMaxScaler\n",
    "\n",
    "train_labels = []\n",
    "train_samples = []\n",
    "\n",
    "# 生成数据\n",
    "for i in range(50):\n",
    "    # 大约5%的年轻人确实经历过副作用\n",
    "    random_younger = randint(13,64)\n",
    "    train_samples.append(random_younger)\n",
    "    train_labels.append(1)\n",
    "\n",
    "    # 大约5%的老年人没有经历过副作用\n",
    "    random_older = randint(65,100)\n",
    "    train_samples.append(random_older)\n",
    "    train_labels.append(0)\n",
    "\n",
    "for i in range(1000):\n",
    "    # 大约95%的年轻人没有经历过副作用\n",
    "    random_younger = randint(13,64)\n",
    "    train_samples.append(random_younger)\n",
    "    train_labels.append(0)\n",
    "\n",
    "    # 大约95%的老年人确实经历过副作用\n",
    "    random_older = randint(65,100)\n",
    "    train_samples.append(random_older)\n",
    "    train_labels.append(1)\n",
    "\n",
    "train_labels = np.array(train_labels)\n",
    "train_samples = np.array(train_samples)\n",
    "train_labels,train_samples = shuffle(train_labels,train_samples)\n",
    "print(train_samples.shape)\n",
    "\n",
    "# 通过将每个特征缩放到给定的范围来转换特征。\n",
    "scaler = MinMaxScaler(feature_range=(0,1))\n",
    "\n",
    "scaled_train_samples = scaler.fit_transform(train_samples.reshape(-1,1))\n",
    "# 我们只是根据fit_transform（）函数默认情况下不接受一维数据的情况，将数据重塑为2D。\n",
    "print(train_samples.reshape(-1,1).shape)"
   ]
  },
  {
   "cell_type": "code",
   "execution_count": 2,
   "id": "7796f728",
   "metadata": {},
   "outputs": [],
   "source": [
    "import tensorflow as tf\n",
    "from tensorflow import keras\n",
    "from tensorflow.keras.models import Sequential\n",
    "from tensorflow.keras.layers import Dense, Activation\n",
    "from tensorflow.keras.optimizers import Adam\n",
    "from tensorflow.keras.metrics import categorical_crossentropy\n",
    "\n",
    "model = Sequential([\n",
    "    Dense(units=16, input_shape=(1,), activation='relu'),\n",
    "    Dense(units=32, activation='relu'),\n",
    "    Dense(units=2, activation='softmax')\n",
    "])\n",
    "\n",
    "model.compile(optimizer=Adam(learning_rate=0.0001),loss='sparse_categorical_crossentropy',metrics=['accuracy'])"
   ]
  },
  {
   "cell_type": "code",
   "execution_count": 7,
   "id": "13d3df0f",
   "metadata": {},
   "outputs": [
    {
     "name": "stdout",
     "output_type": "stream",
     "text": [
      "Epoch 1/30\n",
      "189/189 - 1s - loss: 0.2621 - accuracy: 0.9349 - val_loss: 0.2498 - val_accuracy: 0.9333\n",
      "Epoch 2/30\n",
      "189/189 - 1s - loss: 0.2609 - accuracy: 0.9333 - val_loss: 0.2488 - val_accuracy: 0.9333\n",
      "Epoch 3/30\n",
      "189/189 - 1s - loss: 0.2599 - accuracy: 0.9339 - val_loss: 0.2468 - val_accuracy: 0.9333\n",
      "Epoch 4/30\n",
      "189/189 - 1s - loss: 0.2586 - accuracy: 0.9365 - val_loss: 0.2472 - val_accuracy: 0.9476\n",
      "Epoch 5/30\n",
      "189/189 - 1s - loss: 0.2577 - accuracy: 0.9349 - val_loss: 0.2441 - val_accuracy: 0.9333\n",
      "Epoch 6/30\n",
      "189/189 - 1s - loss: 0.2566 - accuracy: 0.9333 - val_loss: 0.2452 - val_accuracy: 0.9476\n",
      "Epoch 7/30\n",
      "189/189 - 1s - loss: 0.2557 - accuracy: 0.9407 - val_loss: 0.2422 - val_accuracy: 0.9333\n",
      "Epoch 8/30\n",
      "189/189 - 1s - loss: 0.2549 - accuracy: 0.9370 - val_loss: 0.2427 - val_accuracy: 0.9333\n",
      "Epoch 9/30\n",
      "189/189 - 1s - loss: 0.2540 - accuracy: 0.9370 - val_loss: 0.2409 - val_accuracy: 0.9333\n",
      "Epoch 10/30\n",
      "189/189 - 1s - loss: 0.2534 - accuracy: 0.9381 - val_loss: 0.2414 - val_accuracy: 0.9333\n",
      "Epoch 11/30\n",
      "189/189 - 1s - loss: 0.2526 - accuracy: 0.9354 - val_loss: 0.2413 - val_accuracy: 0.9476\n",
      "Epoch 12/30\n",
      "189/189 - 1s - loss: 0.2519 - accuracy: 0.9402 - val_loss: 0.2398 - val_accuracy: 0.9333\n",
      "Epoch 13/30\n",
      "189/189 - 1s - loss: 0.2511 - accuracy: 0.9370 - val_loss: 0.2413 - val_accuracy: 0.9476\n",
      "Epoch 14/30\n",
      "189/189 - 1s - loss: 0.2507 - accuracy: 0.9397 - val_loss: 0.2394 - val_accuracy: 0.9476\n",
      "Epoch 15/30\n",
      "189/189 - 1s - loss: 0.2500 - accuracy: 0.9386 - val_loss: 0.2388 - val_accuracy: 0.9476\n",
      "Epoch 16/30\n",
      "189/189 - 1s - loss: 0.2493 - accuracy: 0.9402 - val_loss: 0.2374 - val_accuracy: 0.9333\n",
      "Epoch 17/30\n",
      "189/189 - 1s - loss: 0.2488 - accuracy: 0.9370 - val_loss: 0.2370 - val_accuracy: 0.9333\n",
      "Epoch 18/30\n",
      "189/189 - 1s - loss: 0.2480 - accuracy: 0.9386 - val_loss: 0.2382 - val_accuracy: 0.9476\n",
      "Epoch 19/30\n",
      "189/189 - 1s - loss: 0.2477 - accuracy: 0.9381 - val_loss: 0.2360 - val_accuracy: 0.9476\n",
      "Epoch 20/30\n",
      "189/189 - 1s - loss: 0.2470 - accuracy: 0.9413 - val_loss: 0.2366 - val_accuracy: 0.9476\n",
      "Epoch 21/30\n",
      "189/189 - 1s - loss: 0.2466 - accuracy: 0.9413 - val_loss: 0.2346 - val_accuracy: 0.9333\n",
      "Epoch 22/30\n",
      "189/189 - 1s - loss: 0.2460 - accuracy: 0.9354 - val_loss: 0.2380 - val_accuracy: 0.9476\n",
      "Epoch 23/30\n",
      "189/189 - 1s - loss: 0.2457 - accuracy: 0.9392 - val_loss: 0.2363 - val_accuracy: 0.9476\n",
      "Epoch 24/30\n",
      "189/189 - 1s - loss: 0.2451 - accuracy: 0.9413 - val_loss: 0.2340 - val_accuracy: 0.9476\n",
      "Epoch 25/30\n",
      "189/189 - 1s - loss: 0.2446 - accuracy: 0.9370 - val_loss: 0.2368 - val_accuracy: 0.9476\n",
      "Epoch 26/30\n",
      "189/189 - 1s - loss: 0.2443 - accuracy: 0.9413 - val_loss: 0.2341 - val_accuracy: 0.9476\n",
      "Epoch 27/30\n",
      "189/189 - 1s - loss: 0.2437 - accuracy: 0.9413 - val_loss: 0.2336 - val_accuracy: 0.9476\n",
      "Epoch 28/30\n",
      "189/189 - 1s - loss: 0.2433 - accuracy: 0.9413 - val_loss: 0.2326 - val_accuracy: 0.9476\n",
      "Epoch 29/30\n",
      "189/189 - 1s - loss: 0.2430 - accuracy: 0.9381 - val_loss: 0.2327 - val_accuracy: 0.9476\n",
      "Epoch 30/30\n",
      "189/189 - 1s - loss: 0.2426 - accuracy: 0.9402 - val_loss: 0.2311 - val_accuracy: 0.9333\n"
     ]
    },
    {
     "data": {
      "text/plain": [
       "<tensorflow.python.keras.callbacks.History at 0x2d1adefc898>"
      ]
     },
     "execution_count": 7,
     "metadata": {},
     "output_type": "execute_result"
    }
   ],
   "source": [
    "model.fit(x = scaled_train_samples, y = train_labels, validation_split = 0.1, batch_size = 10, epochs = 30, verbose = 2)"
   ]
  },
  {
   "cell_type": "code",
   "execution_count": 14,
   "id": "05a7900a",
   "metadata": {},
   "outputs": [],
   "source": [
    "model.save('models/medical_trial_model.h5')"
   ]
  },
  {
   "cell_type": "code",
   "execution_count": 16,
   "id": "fd9c4170",
   "metadata": {},
   "outputs": [],
   "source": [
    "from tensorflow.keras.models import load_model\n",
    "new_model = load_model('models/medical_trial_model.h5')"
   ]
  },
  {
   "cell_type": "code",
   "execution_count": 17,
   "id": "cb87cda0",
   "metadata": {},
   "outputs": [
    {
     "name": "stdout",
     "output_type": "stream",
     "text": [
      "Model: \"sequential\"\n",
      "_________________________________________________________________\n",
      "Layer (type)                 Output Shape              Param #   \n",
      "=================================================================\n",
      "dense (Dense)                (None, 16)                32        \n",
      "_________________________________________________________________\n",
      "dense_1 (Dense)              (None, 32)                544       \n",
      "_________________________________________________________________\n",
      "dense_2 (Dense)              (None, 2)                 66        \n",
      "=================================================================\n",
      "Total params: 642\n",
      "Trainable params: 642\n",
      "Non-trainable params: 0\n",
      "_________________________________________________________________\n"
     ]
    }
   ],
   "source": [
    "new_model.summary()"
   ]
  },
  {
   "cell_type": "code",
   "execution_count": 19,
   "id": "a0e24f37",
   "metadata": {},
   "outputs": [
    {
     "data": {
      "text/plain": [
       "'{\"class_name\": \"Sequential\", \"config\": {\"name\": \"sequential\", \"layers\": [{\"class_name\": \"InputLayer\", \"config\": {\"batch_input_shape\": [null, 1], \"dtype\": \"float32\", \"sparse\": false, \"ragged\": false, \"name\": \"dense_input\"}}, {\"class_name\": \"Dense\", \"config\": {\"name\": \"dense\", \"trainable\": true, \"batch_input_shape\": [null, 1], \"dtype\": \"float32\", \"units\": 16, \"activation\": \"relu\", \"use_bias\": true, \"kernel_initializer\": {\"class_name\": \"GlorotUniform\", \"config\": {\"seed\": null}}, \"bias_initializer\": {\"class_name\": \"Zeros\", \"config\": {}}, \"kernel_regularizer\": null, \"bias_regularizer\": null, \"activity_regularizer\": null, \"kernel_constraint\": null, \"bias_constraint\": null}}, {\"class_name\": \"Dense\", \"config\": {\"name\": \"dense_1\", \"trainable\": true, \"dtype\": \"float32\", \"units\": 32, \"activation\": \"relu\", \"use_bias\": true, \"kernel_initializer\": {\"class_name\": \"GlorotUniform\", \"config\": {\"seed\": null}}, \"bias_initializer\": {\"class_name\": \"Zeros\", \"config\": {}}, \"kernel_regularizer\": null, \"bias_regularizer\": null, \"activity_regularizer\": null, \"kernel_constraint\": null, \"bias_constraint\": null}}, {\"class_name\": \"Dense\", \"config\": {\"name\": \"dense_2\", \"trainable\": true, \"dtype\": \"float32\", \"units\": 2, \"activation\": \"softmax\", \"use_bias\": true, \"kernel_initializer\": {\"class_name\": \"GlorotUniform\", \"config\": {\"seed\": null}}, \"bias_initializer\": {\"class_name\": \"Zeros\", \"config\": {}}, \"kernel_regularizer\": null, \"bias_regularizer\": null, \"activity_regularizer\": null, \"kernel_constraint\": null, \"bias_constraint\": null}}]}, \"keras_version\": \"2.5.0\", \"backend\": \"tensorflow\"}'"
      ]
     },
     "execution_count": 19,
     "metadata": {},
     "output_type": "execute_result"
    }
   ],
   "source": [
    "json_string = model.to_json()\n",
    "json_string"
   ]
  },
  {
   "cell_type": "code",
   "execution_count": 20,
   "id": "ff166b83",
   "metadata": {},
   "outputs": [],
   "source": [
    "from tensorflow.keras.models import model_from_json\n",
    "model_architecture = model_from_json(json_string)"
   ]
  },
  {
   "cell_type": "code",
   "execution_count": 21,
   "id": "7a592dcf",
   "metadata": {},
   "outputs": [
    {
     "name": "stdout",
     "output_type": "stream",
     "text": [
      "Model: \"sequential\"\n",
      "_________________________________________________________________\n",
      "Layer (type)                 Output Shape              Param #   \n",
      "=================================================================\n",
      "dense (Dense)                (None, 16)                32        \n",
      "_________________________________________________________________\n",
      "dense_1 (Dense)              (None, 32)                544       \n",
      "_________________________________________________________________\n",
      "dense_2 (Dense)              (None, 2)                 66        \n",
      "=================================================================\n",
      "Total params: 642\n",
      "Trainable params: 642\n",
      "Non-trainable params: 0\n",
      "_________________________________________________________________\n"
     ]
    }
   ],
   "source": [
    "model_architecture.summary()"
   ]
  },
  {
   "cell_type": "code",
   "execution_count": 22,
   "id": "cbfd5123",
   "metadata": {},
   "outputs": [
    {
     "data": {
      "text/plain": [
       "'backend: tensorflow\\nclass_name: Sequential\\nconfig:\\n  layers:\\n  - class_name: InputLayer\\n    config:\\n      batch_input_shape: !!python/tuple\\n      - null\\n      - 1\\n      dtype: float32\\n      name: dense_input\\n      ragged: false\\n      sparse: false\\n  - class_name: Dense\\n    config:\\n      activation: relu\\n      activity_regularizer: null\\n      batch_input_shape: !!python/tuple\\n      - null\\n      - 1\\n      bias_constraint: null\\n      bias_initializer:\\n        class_name: Zeros\\n        config: {}\\n      bias_regularizer: null\\n      dtype: float32\\n      kernel_constraint: null\\n      kernel_initializer:\\n        class_name: GlorotUniform\\n        config:\\n          seed: null\\n      kernel_regularizer: null\\n      name: dense\\n      trainable: true\\n      units: 16\\n      use_bias: true\\n  - class_name: Dense\\n    config:\\n      activation: relu\\n      activity_regularizer: null\\n      bias_constraint: null\\n      bias_initializer:\\n        class_name: Zeros\\n        config: {}\\n      bias_regularizer: null\\n      dtype: float32\\n      kernel_constraint: null\\n      kernel_initializer:\\n        class_name: GlorotUniform\\n        config:\\n          seed: null\\n      kernel_regularizer: null\\n      name: dense_1\\n      trainable: true\\n      units: 32\\n      use_bias: true\\n  - class_name: Dense\\n    config:\\n      activation: softmax\\n      activity_regularizer: null\\n      bias_constraint: null\\n      bias_initializer:\\n        class_name: Zeros\\n        config: {}\\n      bias_regularizer: null\\n      dtype: float32\\n      kernel_constraint: null\\n      kernel_initializer:\\n        class_name: GlorotUniform\\n        config:\\n          seed: null\\n      kernel_regularizer: null\\n      name: dense_2\\n      trainable: true\\n      units: 2\\n      use_bias: true\\n  name: sequential\\nkeras_version: 2.5.0\\n'"
      ]
     },
     "execution_count": 22,
     "metadata": {},
     "output_type": "execute_result"
    }
   ],
   "source": [
    "yaml_string = model.to_yaml()\n",
    "yaml_string"
   ]
  },
  {
   "cell_type": "code",
   "execution_count": 23,
   "id": "ea2b22a2",
   "metadata": {},
   "outputs": [],
   "source": [
    "from tensorflow.keras.models import model_from_yaml\n",
    "model_architecture = model_from_yaml(yaml_string)"
   ]
  },
  {
   "cell_type": "code",
   "execution_count": 24,
   "id": "b13d6d2f",
   "metadata": {},
   "outputs": [
    {
     "name": "stdout",
     "output_type": "stream",
     "text": [
      "Model: \"sequential\"\n",
      "_________________________________________________________________\n",
      "Layer (type)                 Output Shape              Param #   \n",
      "=================================================================\n",
      "dense (Dense)                (None, 16)                32        \n",
      "_________________________________________________________________\n",
      "dense_1 (Dense)              (None, 32)                544       \n",
      "_________________________________________________________________\n",
      "dense_2 (Dense)              (None, 2)                 66        \n",
      "=================================================================\n",
      "Total params: 642\n",
      "Trainable params: 642\n",
      "Non-trainable params: 0\n",
      "_________________________________________________________________\n"
     ]
    }
   ],
   "source": [
    "model_architecture.summary()"
   ]
  },
  {
   "cell_type": "code",
   "execution_count": 25,
   "id": "bf44de3a",
   "metadata": {},
   "outputs": [],
   "source": [
    "model.save_weights('models/my_model_weights.h5')"
   ]
  },
  {
   "cell_type": "code",
   "execution_count": 29,
   "id": "5d2a5f79",
   "metadata": {},
   "outputs": [],
   "source": [
    "model2 = Sequential([\n",
    "    Dense(units=16, input_shape=(1,), activation='relu'),\n",
    "    Dense(units=32, activation='relu'),\n",
    "    Dense(units=2, activation='softmax')\n",
    "])"
   ]
  },
  {
   "cell_type": "code",
   "execution_count": 30,
   "id": "b8a06d4d",
   "metadata": {},
   "outputs": [],
   "source": [
    "model2.load_weights('models/my_model_weights.h5')"
   ]
  }
 ],
 "metadata": {
  "kernelspec": {
   "display_name": "Python 3",
   "language": "python",
   "name": "python3"
  },
  "language_info": {
   "codemirror_mode": {
    "name": "ipython",
    "version": 3
   },
   "file_extension": ".py",
   "mimetype": "text/x-python",
   "name": "python",
   "nbconvert_exporter": "python",
   "pygments_lexer": "ipython3",
   "version": "3.6.13"
  }
 },
 "nbformat": 4,
 "nbformat_minor": 5
}
